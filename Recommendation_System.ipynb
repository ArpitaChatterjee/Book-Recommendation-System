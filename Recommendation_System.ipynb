{
  "nbformat": 4,
  "nbformat_minor": 0,
  "metadata": {
    "colab": {
      "name": "Recommendation System.ipynb",
      "provenance": [],
      "collapsed_sections": [],
      "authorship_tag": "ABX9TyM4AxUld71eX1UDyOblJa/1",
      "include_colab_link": true
    },
    "kernelspec": {
      "name": "python3",
      "display_name": "Python 3"
    },
    "language_info": {
      "name": "python"
    },
    "widgets": {
      "application/vnd.jupyter.widget-state+json": {
        "d1e25546b3f14bd6b4adac838670f6e2": {
          "model_module": "@jupyter-widgets/controls",
          "model_name": "DropdownModel",
          "state": {
            "_options_labels": [
              "User-based CF (cosine)",
              "User-based CF (correlation)",
              "Item-based CF (cosine)",
              "Item-based CF (adjusted cosine)"
            ],
            "_view_name": "DropdownView",
            "style": "IPY_MODEL_841cf3b0913c4e7ca486de7c4ed2a52c",
            "_dom_classes": [],
            "description": "Select Approach",
            "_model_name": "DropdownModel",
            "index": 1,
            "_view_module": "@jupyter-widgets/controls",
            "_model_module_version": "1.5.0",
            "_view_count": null,
            "disabled": false,
            "_view_module_version": "1.5.0",
            "description_tooltip": null,
            "_model_module": "@jupyter-widgets/controls",
            "layout": "IPY_MODEL_11732a6c12bc4149ade50c65ae01d06f"
          }
        },
        "841cf3b0913c4e7ca486de7c4ed2a52c": {
          "model_module": "@jupyter-widgets/controls",
          "model_name": "DescriptionStyleModel",
          "state": {
            "_view_name": "StyleView",
            "_model_name": "DescriptionStyleModel",
            "description_width": "",
            "_view_module": "@jupyter-widgets/base",
            "_model_module_version": "1.5.0",
            "_view_count": null,
            "_view_module_version": "1.2.0",
            "_model_module": "@jupyter-widgets/controls"
          }
        },
        "11732a6c12bc4149ade50c65ae01d06f": {
          "model_module": "@jupyter-widgets/base",
          "model_name": "LayoutModel",
          "state": {
            "_view_name": "LayoutView",
            "grid_template_rows": null,
            "right": null,
            "justify_content": null,
            "_view_module": "@jupyter-widgets/base",
            "overflow": null,
            "_model_module_version": "1.2.0",
            "_view_count": null,
            "flex_flow": null,
            "width": null,
            "min_width": null,
            "border": null,
            "align_items": null,
            "bottom": null,
            "_model_module": "@jupyter-widgets/base",
            "top": null,
            "grid_column": null,
            "overflow_y": null,
            "overflow_x": null,
            "grid_auto_flow": null,
            "grid_area": null,
            "grid_template_columns": null,
            "flex": null,
            "_model_name": "LayoutModel",
            "justify_items": null,
            "grid_row": null,
            "max_height": null,
            "align_content": null,
            "visibility": null,
            "align_self": null,
            "height": null,
            "min_height": null,
            "padding": null,
            "grid_auto_rows": null,
            "grid_gap": null,
            "max_width": null,
            "order": null,
            "_view_module_version": "1.2.0",
            "grid_template_areas": null,
            "object_position": null,
            "object_fit": null,
            "grid_auto_columns": null,
            "margin": null,
            "display": null,
            "left": null
          }
        },
        "b00d79f5795840dcb4799b5c6354f9f7": {
          "model_module": "@jupyter-widgets/controls",
          "model_name": "DropdownModel",
          "state": {
            "_options_labels": [
              "User-based CF (cosine)",
              "User-based CF (correlation)",
              "Item-based CF (cosine)",
              "Item-based CF (adjusted cosine)"
            ],
            "_view_name": "DropdownView",
            "style": "IPY_MODEL_09f77cfa024d42ed93722e8d663a0ed7",
            "_dom_classes": [],
            "description": "Select Approach",
            "_model_name": "DropdownModel",
            "index": 2,
            "_view_module": "@jupyter-widgets/controls",
            "_model_module_version": "1.5.0",
            "_view_count": null,
            "disabled": false,
            "_view_module_version": "1.5.0",
            "description_tooltip": null,
            "_model_module": "@jupyter-widgets/controls",
            "layout": "IPY_MODEL_007309352f3a4bd4b7214c82e08c81ee"
          }
        },
        "09f77cfa024d42ed93722e8d663a0ed7": {
          "model_module": "@jupyter-widgets/controls",
          "model_name": "DescriptionStyleModel",
          "state": {
            "_view_name": "StyleView",
            "_model_name": "DescriptionStyleModel",
            "description_width": "",
            "_view_module": "@jupyter-widgets/base",
            "_model_module_version": "1.5.0",
            "_view_count": null,
            "_view_module_version": "1.2.0",
            "_model_module": "@jupyter-widgets/controls"
          }
        },
        "007309352f3a4bd4b7214c82e08c81ee": {
          "model_module": "@jupyter-widgets/base",
          "model_name": "LayoutModel",
          "state": {
            "_view_name": "LayoutView",
            "grid_template_rows": null,
            "right": null,
            "justify_content": null,
            "_view_module": "@jupyter-widgets/base",
            "overflow": null,
            "_model_module_version": "1.2.0",
            "_view_count": null,
            "flex_flow": null,
            "width": null,
            "min_width": null,
            "border": null,
            "align_items": null,
            "bottom": null,
            "_model_module": "@jupyter-widgets/base",
            "top": null,
            "grid_column": null,
            "overflow_y": null,
            "overflow_x": null,
            "grid_auto_flow": null,
            "grid_area": null,
            "grid_template_columns": null,
            "flex": null,
            "_model_name": "LayoutModel",
            "justify_items": null,
            "grid_row": null,
            "max_height": null,
            "align_content": null,
            "visibility": null,
            "align_self": null,
            "height": null,
            "min_height": null,
            "padding": null,
            "grid_auto_rows": null,
            "grid_gap": null,
            "max_width": null,
            "order": null,
            "_view_module_version": "1.2.0",
            "grid_template_areas": null,
            "object_position": null,
            "object_fit": null,
            "grid_auto_columns": null,
            "margin": null,
            "display": null,
            "left": null
          }
        },
        "b7ebcafcc9db407c84fe3ae046f92700": {
          "model_module": "@jupyter-widgets/controls",
          "model_name": "DropdownModel",
          "state": {
            "_options_labels": [
              "User-based CF (cosine)",
              "User-based CF (correlation)",
              "Item-based CF (cosine)",
              "Item-based CF (adjusted cosine)"
            ],
            "_view_name": "DropdownView",
            "style": "IPY_MODEL_01ed3e7d9b654ff08fab737722f1b23f",
            "_dom_classes": [],
            "description": "Select Approach",
            "_model_name": "DropdownModel",
            "index": 3,
            "_view_module": "@jupyter-widgets/controls",
            "_model_module_version": "1.5.0",
            "_view_count": null,
            "disabled": false,
            "_view_module_version": "1.5.0",
            "description_tooltip": null,
            "_model_module": "@jupyter-widgets/controls",
            "layout": "IPY_MODEL_1f38cc69b94e4a688c5f1532d3687f1c"
          }
        },
        "01ed3e7d9b654ff08fab737722f1b23f": {
          "model_module": "@jupyter-widgets/controls",
          "model_name": "DescriptionStyleModel",
          "state": {
            "_view_name": "StyleView",
            "_model_name": "DescriptionStyleModel",
            "description_width": "",
            "_view_module": "@jupyter-widgets/base",
            "_model_module_version": "1.5.0",
            "_view_count": null,
            "_view_module_version": "1.2.0",
            "_model_module": "@jupyter-widgets/controls"
          }
        },
        "1f38cc69b94e4a688c5f1532d3687f1c": {
          "model_module": "@jupyter-widgets/base",
          "model_name": "LayoutModel",
          "state": {
            "_view_name": "LayoutView",
            "grid_template_rows": null,
            "right": null,
            "justify_content": null,
            "_view_module": "@jupyter-widgets/base",
            "overflow": null,
            "_model_module_version": "1.2.0",
            "_view_count": null,
            "flex_flow": null,
            "width": null,
            "min_width": null,
            "border": null,
            "align_items": null,
            "bottom": null,
            "_model_module": "@jupyter-widgets/base",
            "top": null,
            "grid_column": null,
            "overflow_y": null,
            "overflow_x": null,
            "grid_auto_flow": null,
            "grid_area": null,
            "grid_template_columns": null,
            "flex": null,
            "_model_name": "LayoutModel",
            "justify_items": null,
            "grid_row": null,
            "max_height": null,
            "align_content": null,
            "visibility": null,
            "align_self": null,
            "height": null,
            "min_height": null,
            "padding": null,
            "grid_auto_rows": null,
            "grid_gap": null,
            "max_width": null,
            "order": null,
            "_view_module_version": "1.2.0",
            "grid_template_areas": null,
            "object_position": null,
            "object_fit": null,
            "grid_auto_columns": null,
            "margin": null,
            "display": null,
            "left": null
          }
        },
        "316e919dbfd8484c89c75afcaab8399d": {
          "model_module": "@jupyter-widgets/controls",
          "model_name": "DropdownModel",
          "state": {
            "_options_labels": [
              "User-based CF (cosine)",
              "User-based CF (correlation)",
              "Item-based CF (cosine)",
              "Item-based CF (adjusted cosine)"
            ],
            "_view_name": "DropdownView",
            "style": "IPY_MODEL_1c59da122dd048d8805b3292b729cfef",
            "_dom_classes": [],
            "description": "Select Approach",
            "_model_name": "DropdownModel",
            "index": 1,
            "_view_module": "@jupyter-widgets/controls",
            "_model_module_version": "1.5.0",
            "_view_count": null,
            "disabled": false,
            "_view_module_version": "1.5.0",
            "description_tooltip": null,
            "_model_module": "@jupyter-widgets/controls",
            "layout": "IPY_MODEL_3151f0ef1e1449158c6bf91e013990c1"
          }
        },
        "1c59da122dd048d8805b3292b729cfef": {
          "model_module": "@jupyter-widgets/controls",
          "model_name": "DescriptionStyleModel",
          "state": {
            "_view_name": "StyleView",
            "_model_name": "DescriptionStyleModel",
            "description_width": "",
            "_view_module": "@jupyter-widgets/base",
            "_model_module_version": "1.5.0",
            "_view_count": null,
            "_view_module_version": "1.2.0",
            "_model_module": "@jupyter-widgets/controls"
          }
        },
        "3151f0ef1e1449158c6bf91e013990c1": {
          "model_module": "@jupyter-widgets/base",
          "model_name": "LayoutModel",
          "state": {
            "_view_name": "LayoutView",
            "grid_template_rows": null,
            "right": null,
            "justify_content": null,
            "_view_module": "@jupyter-widgets/base",
            "overflow": null,
            "_model_module_version": "1.2.0",
            "_view_count": null,
            "flex_flow": null,
            "width": null,
            "min_width": null,
            "border": null,
            "align_items": null,
            "bottom": null,
            "_model_module": "@jupyter-widgets/base",
            "top": null,
            "grid_column": null,
            "overflow_y": null,
            "overflow_x": null,
            "grid_auto_flow": null,
            "grid_area": null,
            "grid_template_columns": null,
            "flex": null,
            "_model_name": "LayoutModel",
            "justify_items": null,
            "grid_row": null,
            "max_height": null,
            "align_content": null,
            "visibility": null,
            "align_self": null,
            "height": null,
            "min_height": null,
            "padding": null,
            "grid_auto_rows": null,
            "grid_gap": null,
            "max_width": null,
            "order": null,
            "_view_module_version": "1.2.0",
            "grid_template_areas": null,
            "object_position": null,
            "object_fit": null,
            "grid_auto_columns": null,
            "margin": null,
            "display": null,
            "left": null
          }
        },
        "83c80c0083df4d54b33d811a8d444899": {
          "model_module": "@jupyter-widgets/controls",
          "model_name": "DropdownModel",
          "state": {
            "_options_labels": [
              "User-based CF (cosine)",
              "User-based CF (correlation)",
              "Item-based CF (cosine)",
              "Item-based CF (adjusted cosine)"
            ],
            "_view_name": "DropdownView",
            "style": "IPY_MODEL_6da29a53d42a45d0a5f2363cc9c296ce",
            "_dom_classes": [],
            "description": "Select Approach",
            "_model_name": "DropdownModel",
            "index": 1,
            "_view_module": "@jupyter-widgets/controls",
            "_model_module_version": "1.5.0",
            "_view_count": null,
            "disabled": false,
            "_view_module_version": "1.5.0",
            "description_tooltip": null,
            "_model_module": "@jupyter-widgets/controls",
            "layout": "IPY_MODEL_f637a9d4335a44f8971f3de6e48f0e0d"
          }
        },
        "6da29a53d42a45d0a5f2363cc9c296ce": {
          "model_module": "@jupyter-widgets/controls",
          "model_name": "DescriptionStyleModel",
          "state": {
            "_view_name": "StyleView",
            "_model_name": "DescriptionStyleModel",
            "description_width": "",
            "_view_module": "@jupyter-widgets/base",
            "_model_module_version": "1.5.0",
            "_view_count": null,
            "_view_module_version": "1.2.0",
            "_model_module": "@jupyter-widgets/controls"
          }
        },
        "f637a9d4335a44f8971f3de6e48f0e0d": {
          "model_module": "@jupyter-widgets/base",
          "model_name": "LayoutModel",
          "state": {
            "_view_name": "LayoutView",
            "grid_template_rows": null,
            "right": null,
            "justify_content": null,
            "_view_module": "@jupyter-widgets/base",
            "overflow": null,
            "_model_module_version": "1.2.0",
            "_view_count": null,
            "flex_flow": null,
            "width": null,
            "min_width": null,
            "border": null,
            "align_items": null,
            "bottom": null,
            "_model_module": "@jupyter-widgets/base",
            "top": null,
            "grid_column": null,
            "overflow_y": null,
            "overflow_x": null,
            "grid_auto_flow": null,
            "grid_area": null,
            "grid_template_columns": null,
            "flex": null,
            "_model_name": "LayoutModel",
            "justify_items": null,
            "grid_row": null,
            "max_height": null,
            "align_content": null,
            "visibility": null,
            "align_self": null,
            "height": null,
            "min_height": null,
            "padding": null,
            "grid_auto_rows": null,
            "grid_gap": null,
            "max_width": null,
            "order": null,
            "_view_module_version": "1.2.0",
            "grid_template_areas": null,
            "object_position": null,
            "object_fit": null,
            "grid_auto_columns": null,
            "margin": null,
            "display": null,
            "left": null
          }
        },
        "050916553a834b8cada2ef0591311725": {
          "model_module": "@jupyter-widgets/controls",
          "model_name": "DropdownModel",
          "state": {
            "_options_labels": [
              "User-based CF (cosine)",
              "User-based CF (correlation)",
              "Item-based CF (cosine)",
              "Item-based CF (adjusted cosine)"
            ],
            "_view_name": "DropdownView",
            "style": "IPY_MODEL_0590cfc39cba414083406995e98368e9",
            "_dom_classes": [],
            "description": "Select Approach",
            "_model_name": "DropdownModel",
            "index": 2,
            "_view_module": "@jupyter-widgets/controls",
            "_model_module_version": "1.5.0",
            "_view_count": null,
            "disabled": false,
            "_view_module_version": "1.5.0",
            "description_tooltip": null,
            "_model_module": "@jupyter-widgets/controls",
            "layout": "IPY_MODEL_9e604de713fc4d5384d2e1636ca15380"
          }
        },
        "0590cfc39cba414083406995e98368e9": {
          "model_module": "@jupyter-widgets/controls",
          "model_name": "DescriptionStyleModel",
          "state": {
            "_view_name": "StyleView",
            "_model_name": "DescriptionStyleModel",
            "description_width": "",
            "_view_module": "@jupyter-widgets/base",
            "_model_module_version": "1.5.0",
            "_view_count": null,
            "_view_module_version": "1.2.0",
            "_model_module": "@jupyter-widgets/controls"
          }
        },
        "9e604de713fc4d5384d2e1636ca15380": {
          "model_module": "@jupyter-widgets/base",
          "model_name": "LayoutModel",
          "state": {
            "_view_name": "LayoutView",
            "grid_template_rows": null,
            "right": null,
            "justify_content": null,
            "_view_module": "@jupyter-widgets/base",
            "overflow": null,
            "_model_module_version": "1.2.0",
            "_view_count": null,
            "flex_flow": null,
            "width": null,
            "min_width": null,
            "border": null,
            "align_items": null,
            "bottom": null,
            "_model_module": "@jupyter-widgets/base",
            "top": null,
            "grid_column": null,
            "overflow_y": null,
            "overflow_x": null,
            "grid_auto_flow": null,
            "grid_area": null,
            "grid_template_columns": null,
            "flex": null,
            "_model_name": "LayoutModel",
            "justify_items": null,
            "grid_row": null,
            "max_height": null,
            "align_content": null,
            "visibility": null,
            "align_self": null,
            "height": null,
            "min_height": null,
            "padding": null,
            "grid_auto_rows": null,
            "grid_gap": null,
            "max_width": null,
            "order": null,
            "_view_module_version": "1.2.0",
            "grid_template_areas": null,
            "object_position": null,
            "object_fit": null,
            "grid_auto_columns": null,
            "margin": null,
            "display": null,
            "left": null
          }
        }
      }
    }
  },
  "cells": [
    {
      "cell_type": "markdown",
      "metadata": {
        "id": "view-in-github",
        "colab_type": "text"
      },
      "source": [
        "<a href=\"https://colab.research.google.com/github/ArpitaChatterjee/Recommendation-System/blob/main/Recommendation_System.ipynb\" target=\"_parent\"><img src=\"https://colab.research.google.com/assets/colab-badge.svg\" alt=\"Open In Colab\"/></a>"
      ]
    },
    {
      "cell_type": "markdown",
      "metadata": {
        "id": "HFu7ph-qrv3r"
      },
      "source": [
        "**To build this Recommemdation system , I've used Collaborative Filtering**"
      ]
    },
    {
      "cell_type": "code",
      "metadata": {
        "id": "VBTNbuZGriQO"
      },
      "source": [
        "#necessary inputs\n",
        "import numpy as np\n",
        "import pandas as pd\n",
        "import matplotlib.pyplot as plt\n",
        "import sklearn.metrics as metrics\n",
        "from sklearn.neighbors import NearestNeighbors\n",
        "from scipy.spatial.distance import correlation , cosine\n",
        "import ipywidgets as widgets\n",
        "from IPython.display import display, clear_output\n",
        "from sklearn.metrics import pairwise_distances\n",
        "from sklearn.metrics import mean_squared_error\n",
        "from math import sqrt\n",
        "from contextlib import contextmanager"
      ],
      "execution_count": 1,
      "outputs": []
    },
    {
      "cell_type": "markdown",
      "metadata": {
        "id": "rMKexBvDGtv_"
      },
      "source": [
        "Given a user-item ratings matrix M below, where 6 users (rows) have rated 6 items (columns). Ratings can take up integer values from 1–10 and 0 indicates absence of rating. (Here I'm using zero-based indexing for rows and columns as used in Python. However, for user input, user_id will take up numbers from 1–6 and item_id from 1–6). Suppose, I’ve to find if user 3 will like item 4 or not. Hence user 3 becomes the target user or active user and item 4 is the target item."
      ]
    },
    {
      "cell_type": "code",
      "metadata": {
        "id": "U9NasYzXrvY8"
      },
      "source": [
        "#matrix to store user-item ratings(from 1-10) based from which recommemdation system can be developed\n",
        "m = np.asarray([[4,5,6,7,7,9],\n",
        "                [7,0,7,9,9,8],\n",
        "                [7,5,5,0,8,4],\n",
        "               [5,6,8,5,9,8],\n",
        "               [5,8,8,8,10,9],\n",
        "               [7,7,0,4,7,8]])\n",
        "\n",
        "#converting into dataframe\n",
        "m=pd.DataFrame(m)\n"
      ],
      "execution_count": 2,
      "outputs": []
    },
    {
      "cell_type": "code",
      "metadata": {
        "id": "Aafa6x3Pu7id"
      },
      "source": [
        "#declaring global varible which can be changed later\n",
        "global k, metric \n",
        "k=4\n",
        "metric= 'cosine' #for pearson correlation similarities-> 'correlation' "
      ],
      "execution_count": 3,
      "outputs": []
    },
    {
      "cell_type": "code",
      "metadata": {
        "colab": {
          "base_uri": "https://localhost:8080/",
          "height": 233
        },
        "id": "_71_eDBavcyD",
        "outputId": "3365f3d9-35ff-4dbd-e312-5a75a9fb9d66"
      },
      "source": [
        "m"
      ],
      "execution_count": 4,
      "outputs": [
        {
          "output_type": "execute_result",
          "data": {
            "text/html": [
              "<div>\n",
              "<style scoped>\n",
              "    .dataframe tbody tr th:only-of-type {\n",
              "        vertical-align: middle;\n",
              "    }\n",
              "\n",
              "    .dataframe tbody tr th {\n",
              "        vertical-align: top;\n",
              "    }\n",
              "\n",
              "    .dataframe thead th {\n",
              "        text-align: right;\n",
              "    }\n",
              "</style>\n",
              "<table border=\"1\" class=\"dataframe\">\n",
              "  <thead>\n",
              "    <tr style=\"text-align: right;\">\n",
              "      <th></th>\n",
              "      <th>0</th>\n",
              "      <th>1</th>\n",
              "      <th>2</th>\n",
              "      <th>3</th>\n",
              "      <th>4</th>\n",
              "      <th>5</th>\n",
              "    </tr>\n",
              "  </thead>\n",
              "  <tbody>\n",
              "    <tr>\n",
              "      <th>0</th>\n",
              "      <td>4</td>\n",
              "      <td>5</td>\n",
              "      <td>6</td>\n",
              "      <td>7</td>\n",
              "      <td>7</td>\n",
              "      <td>9</td>\n",
              "    </tr>\n",
              "    <tr>\n",
              "      <th>1</th>\n",
              "      <td>7</td>\n",
              "      <td>0</td>\n",
              "      <td>7</td>\n",
              "      <td>9</td>\n",
              "      <td>9</td>\n",
              "      <td>8</td>\n",
              "    </tr>\n",
              "    <tr>\n",
              "      <th>2</th>\n",
              "      <td>7</td>\n",
              "      <td>5</td>\n",
              "      <td>5</td>\n",
              "      <td>0</td>\n",
              "      <td>8</td>\n",
              "      <td>4</td>\n",
              "    </tr>\n",
              "    <tr>\n",
              "      <th>3</th>\n",
              "      <td>5</td>\n",
              "      <td>6</td>\n",
              "      <td>8</td>\n",
              "      <td>5</td>\n",
              "      <td>9</td>\n",
              "      <td>8</td>\n",
              "    </tr>\n",
              "    <tr>\n",
              "      <th>4</th>\n",
              "      <td>5</td>\n",
              "      <td>8</td>\n",
              "      <td>8</td>\n",
              "      <td>8</td>\n",
              "      <td>10</td>\n",
              "      <td>9</td>\n",
              "    </tr>\n",
              "    <tr>\n",
              "      <th>5</th>\n",
              "      <td>7</td>\n",
              "      <td>7</td>\n",
              "      <td>0</td>\n",
              "      <td>4</td>\n",
              "      <td>7</td>\n",
              "      <td>8</td>\n",
              "    </tr>\n",
              "  </tbody>\n",
              "</table>\n",
              "</div>"
            ],
            "text/plain": [
              "   0  1  2  3   4  5\n",
              "0  4  5  6  7   7  9\n",
              "1  7  0  7  9   9  8\n",
              "2  7  5  5  0   8  4\n",
              "3  5  6  8  5   9  8\n",
              "4  5  8  8  8  10  9\n",
              "5  7  7  0  4   7  8"
            ]
          },
          "metadata": {
            "tags": []
          },
          "execution_count": 4
        }
      ]
    },
    {
      "cell_type": "markdown",
      "metadata": {
        "id": "8MQGlsUdHsZ0"
      },
      "source": [
        "**User-Based Colaborative Filtering**"
      ]
    },
    {
      "cell_type": "code",
      "metadata": {
        "id": "pTgjgF3Ive-2"
      },
      "source": [
        "#cosine similarities for rating matrix 'm'\n",
        "cosine_s= 1-pairwise_distances(m, metric=\"cosine\")\n",
        "#pairwise_distance returns distance/ difference btw ratings; \n",
        "#thus similarity is 1-distance"
      ],
      "execution_count": 5,
      "outputs": []
    },
    {
      "cell_type": "code",
      "metadata": {
        "colab": {
          "base_uri": "https://localhost:8080/",
          "height": 233
        },
        "id": "7ShrYIUxI9FZ",
        "outputId": "10a49c25-ad87-4cfa-eddc-3312bf684031"
      },
      "source": [
        "#cosine Similarity matrix\n",
        "pd.DataFrame(cosine_s)"
      ],
      "execution_count": 6,
      "outputs": [
        {
          "output_type": "execute_result",
          "data": {
            "text/html": [
              "<div>\n",
              "<style scoped>\n",
              "    .dataframe tbody tr th:only-of-type {\n",
              "        vertical-align: middle;\n",
              "    }\n",
              "\n",
              "    .dataframe tbody tr th {\n",
              "        vertical-align: top;\n",
              "    }\n",
              "\n",
              "    .dataframe thead th {\n",
              "        text-align: right;\n",
              "    }\n",
              "</style>\n",
              "<table border=\"1\" class=\"dataframe\">\n",
              "  <thead>\n",
              "    <tr style=\"text-align: right;\">\n",
              "      <th></th>\n",
              "      <th>0</th>\n",
              "      <th>1</th>\n",
              "      <th>2</th>\n",
              "      <th>3</th>\n",
              "      <th>4</th>\n",
              "      <th>5</th>\n",
              "    </tr>\n",
              "  </thead>\n",
              "  <tbody>\n",
              "    <tr>\n",
              "      <th>0</th>\n",
              "      <td>1.000000</td>\n",
              "      <td>0.930556</td>\n",
              "      <td>0.817507</td>\n",
              "      <td>0.975223</td>\n",
              "      <td>0.986845</td>\n",
              "      <td>0.879433</td>\n",
              "    </tr>\n",
              "    <tr>\n",
              "      <th>1</th>\n",
              "      <td>0.930556</td>\n",
              "      <td>1.000000</td>\n",
              "      <td>0.780654</td>\n",
              "      <td>0.908914</td>\n",
              "      <td>0.905043</td>\n",
              "      <td>0.781719</td>\n",
              "    </tr>\n",
              "    <tr>\n",
              "      <th>2</th>\n",
              "      <td>0.817507</td>\n",
              "      <td>0.780654</td>\n",
              "      <td>1.000000</td>\n",
              "      <td>0.909513</td>\n",
              "      <td>0.865454</td>\n",
              "      <td>0.853275</td>\n",
              "    </tr>\n",
              "    <tr>\n",
              "      <th>3</th>\n",
              "      <td>0.975223</td>\n",
              "      <td>0.908914</td>\n",
              "      <td>0.909513</td>\n",
              "      <td>1.000000</td>\n",
              "      <td>0.989344</td>\n",
              "      <td>0.865614</td>\n",
              "    </tr>\n",
              "    <tr>\n",
              "      <th>4</th>\n",
              "      <td>0.986845</td>\n",
              "      <td>0.905043</td>\n",
              "      <td>0.865454</td>\n",
              "      <td>0.989344</td>\n",
              "      <td>1.000000</td>\n",
              "      <td>0.881640</td>\n",
              "    </tr>\n",
              "    <tr>\n",
              "      <th>5</th>\n",
              "      <td>0.879433</td>\n",
              "      <td>0.781719</td>\n",
              "      <td>0.853275</td>\n",
              "      <td>0.865614</td>\n",
              "      <td>0.881640</td>\n",
              "      <td>1.000000</td>\n",
              "    </tr>\n",
              "  </tbody>\n",
              "</table>\n",
              "</div>"
            ],
            "text/plain": [
              "          0         1         2         3         4         5\n",
              "0  1.000000  0.930556  0.817507  0.975223  0.986845  0.879433\n",
              "1  0.930556  1.000000  0.780654  0.908914  0.905043  0.781719\n",
              "2  0.817507  0.780654  1.000000  0.909513  0.865454  0.853275\n",
              "3  0.975223  0.908914  0.909513  1.000000  0.989344  0.865614\n",
              "4  0.986845  0.905043  0.865454  0.989344  1.000000  0.881640\n",
              "5  0.879433  0.781719  0.853275  0.865614  0.881640  1.000000"
            ]
          },
          "metadata": {
            "tags": []
          },
          "execution_count": 6
        }
      ]
    },
    {
      "cell_type": "code",
      "metadata": {
        "id": "1fDfcUNOJIJt"
      },
      "source": [
        "#Pearson Similarity for rating matrix 'm'\n",
        "pearson_s =1- pairwise_distances(m, metric='correlation')"
      ],
      "execution_count": 7,
      "outputs": []
    },
    {
      "cell_type": "code",
      "metadata": {
        "colab": {
          "base_uri": "https://localhost:8080/",
          "height": 233
        },
        "id": "BJswWH1YJjZO",
        "outputId": "be047cf2-c47c-4859-a0ad-616fac295ada"
      },
      "source": [
        "#Pearson Correlation similarity matrix \n",
        "pd.DataFrame(pearson_s)"
      ],
      "execution_count": 8,
      "outputs": [
        {
          "output_type": "execute_result",
          "data": {
            "text/html": [
              "<div>\n",
              "<style scoped>\n",
              "    .dataframe tbody tr th:only-of-type {\n",
              "        vertical-align: middle;\n",
              "    }\n",
              "\n",
              "    .dataframe tbody tr th {\n",
              "        vertical-align: top;\n",
              "    }\n",
              "\n",
              "    .dataframe thead th {\n",
              "        text-align: right;\n",
              "    }\n",
              "</style>\n",
              "<table border=\"1\" class=\"dataframe\">\n",
              "  <thead>\n",
              "    <tr style=\"text-align: right;\">\n",
              "      <th></th>\n",
              "      <th>0</th>\n",
              "      <th>1</th>\n",
              "      <th>2</th>\n",
              "      <th>3</th>\n",
              "      <th>4</th>\n",
              "      <th>5</th>\n",
              "    </tr>\n",
              "  </thead>\n",
              "  <tbody>\n",
              "    <tr>\n",
              "      <th>0</th>\n",
              "      <td>1.000000</td>\n",
              "      <td>0.494663</td>\n",
              "      <td>-0.355166</td>\n",
              "      <td>0.552562</td>\n",
              "      <td>0.750776</td>\n",
              "      <td>0.113579</td>\n",
              "    </tr>\n",
              "    <tr>\n",
              "      <th>1</th>\n",
              "      <td>0.494663</td>\n",
              "      <td>1.000000</td>\n",
              "      <td>-0.113030</td>\n",
              "      <td>0.262896</td>\n",
              "      <td>0.176483</td>\n",
              "      <td>-0.156632</td>\n",
              "    </tr>\n",
              "    <tr>\n",
              "      <th>2</th>\n",
              "      <td>-0.355166</td>\n",
              "      <td>-0.113030</td>\n",
              "      <td>1.000000</td>\n",
              "      <td>0.451378</td>\n",
              "      <td>-0.042888</td>\n",
              "      <td>0.297373</td>\n",
              "    </tr>\n",
              "    <tr>\n",
              "      <th>3</th>\n",
              "      <td>0.552562</td>\n",
              "      <td>0.262896</td>\n",
              "      <td>0.451378</td>\n",
              "      <td>1.000000</td>\n",
              "      <td>0.763325</td>\n",
              "      <td>-0.057739</td>\n",
              "    </tr>\n",
              "    <tr>\n",
              "      <th>4</th>\n",
              "      <td>0.750776</td>\n",
              "      <td>0.176483</td>\n",
              "      <td>-0.042888</td>\n",
              "      <td>0.763325</td>\n",
              "      <td>1.000000</td>\n",
              "      <td>0.039621</td>\n",
              "    </tr>\n",
              "    <tr>\n",
              "      <th>5</th>\n",
              "      <td>0.113579</td>\n",
              "      <td>-0.156632</td>\n",
              "      <td>0.297373</td>\n",
              "      <td>-0.057739</td>\n",
              "      <td>0.039621</td>\n",
              "      <td>1.000000</td>\n",
              "    </tr>\n",
              "  </tbody>\n",
              "</table>\n",
              "</div>"
            ],
            "text/plain": [
              "          0         1         2         3         4         5\n",
              "0  1.000000  0.494663 -0.355166  0.552562  0.750776  0.113579\n",
              "1  0.494663  1.000000 -0.113030  0.262896  0.176483 -0.156632\n",
              "2 -0.355166 -0.113030  1.000000  0.451378 -0.042888  0.297373\n",
              "3  0.552562  0.262896  0.451378  1.000000  0.763325 -0.057739\n",
              "4  0.750776  0.176483 -0.042888  0.763325  1.000000  0.039621\n",
              "5  0.113579 -0.156632  0.297373 -0.057739  0.039621  1.000000"
            ]
          },
          "metadata": {
            "tags": []
          },
          "execution_count": 8
        }
      ]
    },
    {
      "cell_type": "code",
      "metadata": {
        "id": "_444XBPFJu6g"
      },
      "source": [
        "#function to find k similar users given the userid and rating matrix m\n",
        "#findksimilarusers function uses this method to return similarities and indices of k-nearest neighbors for active user.\n",
        "def findksimilarusers(userid, ratings, metric= metric, k=k):\n",
        "  similar=[]\n",
        "  index=[]\n",
        "  model= NearestNeighbors(metric= metric, algorithm='brute')\n",
        "  model.fit(ratings)\n",
        "\n",
        "  distances, index = model.kneighbors(ratings.iloc[userid-1, :].values.reshape(1,-1), n_neighbors= k+1)\n",
        "  similar= 1-distances.flatten()\n",
        "  print (\"{} most similar users for User {}:\".format(k,userid))\n",
        "  for i in range(0, len(index.flatten())):\n",
        "    if index.flatten()[i]+1 == userid:\n",
        "      continue\n",
        "    else:\n",
        "      print('{}:User{}, with similarity of {}'.format(i, index.flatten()[i]+1, similar.flatten()[i]))\n",
        "  return similar, index "
      ],
      "execution_count": 9,
      "outputs": []
    },
    {
      "cell_type": "code",
      "metadata": {
        "id": "3O5Jy20u-CSz",
        "colab": {
          "base_uri": "https://localhost:8080/"
        },
        "outputId": "0d534cad-ff29-47a6-d194-93a4309bba79"
      },
      "source": [
        "similar, index= findksimilarusers(1, m, metric='cosine') "
      ],
      "execution_count": 10,
      "outputs": [
        {
          "output_type": "stream",
          "text": [
            "4 most similar users for User 1:\n",
            "1:User5, with similarity of 0.9868452046367622\n",
            "2:User4, with similarity of 0.9752227038137999\n",
            "3:User2, with similarity of 0.9305555555555556\n",
            "4:User6, with similarity of 0.879433387869963\n"
          ],
          "name": "stdout"
        }
      ]
    },
    {
      "cell_type": "code",
      "metadata": {
        "colab": {
          "base_uri": "https://localhost:8080/"
        },
        "id": "nIBLQ7Bu1qTn",
        "outputId": "e5c3c4ba-fc02-46ec-f488-f6514a04b37c"
      },
      "source": [
        "similar , index = findksimilarusers(1, m, metric='correlation')"
      ],
      "execution_count": 11,
      "outputs": [
        {
          "output_type": "stream",
          "text": [
            "4 most similar users for User 1:\n",
            "1:User5, with similarity of 0.7507759960689286\n",
            "2:User4, with similarity of 0.5525620921281691\n",
            "3:User2, with similarity of 0.49466312545461666\n",
            "4:User6, with similarity of 0.11357879791107994\n"
          ],
          "name": "stdout"
        }
      ]
    },
    {
      "cell_type": "code",
      "metadata": {
        "id": "HYY07XiY8zxv"
      },
      "source": [
        ""
      ],
      "execution_count": 11,
      "outputs": []
    },
    {
      "cell_type": "code",
      "metadata": {
        "id": "N9tBHhqs1ym2"
      },
      "source": [
        "#a funtion to predict rating for specified user-item combination based on user-based approach\n",
        "def pred_userbased(userid, itemid, ratings, metric= metric, k=k):\n",
        "  prediction= 0\n",
        "  similar, index= findksimilarusers(userid, ratings, metric, k)#similar uses based on cosine similarity\n",
        "  mean_rating = ratings.loc[userid-1,:].mean()#to adjust for zero based indexing\n",
        "  sum_wt= np.sum(similar)-1\n",
        "  product=1\n",
        "  wtd_sum=0\n",
        "\n",
        "  for i in range(0, len(index.flatten())):\n",
        "    if index.flatten()[i]+1== userid:\n",
        "      continue\n",
        "    else:\n",
        "      rating_diff= ratings.iloc[index.flatten()[i], itemid-1]- np.mean(ratings.iloc[index.flatten()[i],:])\n",
        "      product= rating_diff*(similar[i])\n",
        "      wtd_sum= wtd_sum+product\n",
        "    \n",
        "  prediction= int(round(mean_rating+ (wtd_sum/sum_wt)))\n",
        "  print('\\nPredicted rating for user{}-> item{}:{}'.format(userid, itemid, prediction))\n",
        "\n",
        "  return prediction\n"
      ],
      "execution_count": 12,
      "outputs": []
    },
    {
      "cell_type": "code",
      "metadata": {
        "colab": {
          "base_uri": "https://localhost:8080/"
        },
        "id": "tfsS6hph5wGn",
        "outputId": "002b8db2-7e7a-471a-af46-80ca5cd1a0d0"
      },
      "source": [
        "prediction = pred_userbased(3, 4, m)"
      ],
      "execution_count": 13,
      "outputs": [
        {
          "output_type": "stream",
          "text": [
            "4 most similar users for User 3:\n",
            "1:User4, with similarity of 0.909512689340191\n",
            "2:User5, with similarity of 0.8654538781497916\n",
            "3:User6, with similarity of 0.853274963343837\n",
            "4:User1, with similarity of 0.8175071326974299\n",
            "\n",
            "Predicted rating for user3-> item4:4\n"
          ],
          "name": "stdout"
        }
      ]
    },
    {
      "cell_type": "markdown",
      "metadata": {
        "id": "QPqgM2q-9FW0"
      },
      "source": [
        "**Item-Based Recommendation System**"
      ]
    },
    {
      "cell_type": "markdown",
      "metadata": {
        "id": "blHWrMs--P5d"
      },
      "source": [
        "In this process, similarities between pair of items are computed using cosine similarity metric"
      ]
    },
    {
      "cell_type": "code",
      "metadata": {
        "id": "k1_hhIQu9Pjl"
      },
      "source": [
        "#funtn to find k similar items given the itemid n ratings matrix m\n",
        "def findksimilaritems(itemid, ratings, metric= metric, k=k):\n",
        "  similar=[]\n",
        "  index=[]\n",
        "  ratings=ratings.T\n",
        "  model= NearestNeighbors(metric= metric, algorithm='brute')\n",
        "  model.fit(ratings)\n",
        "\n",
        "  distances, index = model.kneighbors(ratings.iloc[itemid-1, :].values.reshape(1,-1), n_neighbors= k+1)\n",
        "  similar= 1-distances.flatten()\n",
        "  print (\"{} most similar items for item {}:\".format(k,itemid))\n",
        "  for i in range(0, len(index.flatten())):\n",
        "    if index.flatten()[i]+1 == itemid:\n",
        "      continue\n",
        "    else:\n",
        "      print('{}:Item{}, with similarity of {}'.format(i, index.flatten()[i]+1, similar.flatten()[i]))\n",
        "  return similar, index "
      ],
      "execution_count": 14,
      "outputs": []
    },
    {
      "cell_type": "code",
      "metadata": {
        "colab": {
          "base_uri": "https://localhost:8080/"
        },
        "id": "9C-Zg07y-EYv",
        "outputId": "7eb7a133-8547-4b7c-b81f-68153d89fdac"
      },
      "source": [
        "similar, index = findksimilaritems(3, m)"
      ],
      "execution_count": 15,
      "outputs": [
        {
          "output_type": "stream",
          "text": [
            "4 most similar items for item 3:\n",
            "1:Item5, with similarity of 0.9349428022311271\n",
            "2:Item6, with similarity of 0.8963802849585222\n",
            "3:Item4, with similarity of 0.8837387055954756\n",
            "4:Item1, with similarity of 0.8349867213266859\n"
          ],
          "name": "stdout"
        }
      ]
    },
    {
      "cell_type": "code",
      "metadata": {
        "id": "dnbLH1FF-RAZ"
      },
      "source": [
        "def pred_itembased(user_id, item_id, ratings, metric = metric, k=k):\n",
        "    prediction= wtd_sum =0\n",
        "    similarities, indices=findksimilaritems(item_id, ratings) #similar users based on correlation coefficients\n",
        "    sum_wt = np.sum(similarities)-1\n",
        "    product=1\n",
        "    \n",
        "    for i in range(0, len(indices.flatten())):\n",
        "        if indices.flatten()[i]+1 == item_id:\n",
        "            continue;\n",
        "        else:\n",
        "            product = ratings.iloc[user_id-1,indices.flatten()[i]] * (similarities[i])\n",
        "            wtd_sum = wtd_sum + product                              \n",
        "    prediction = int(round(wtd_sum/sum_wt))\n",
        "    print ('\\nPredicted rating for user {0} -> item {1}: {2}'.format(user_id,item_id,prediction))   \n",
        "\n",
        "    return prediction"
      ],
      "execution_count": 16,
      "outputs": []
    },
    {
      "cell_type": "code",
      "metadata": {
        "colab": {
          "base_uri": "https://localhost:8080/"
        },
        "id": "xBOB7GRO-kLr",
        "outputId": "f2a54fdb-0e3f-4443-d095-44f645778320"
      },
      "source": [
        "prediction= pred_itembased(1,3,m)"
      ],
      "execution_count": 17,
      "outputs": [
        {
          "output_type": "stream",
          "text": [
            "4 most similar items for item 3:\n",
            "1:Item5, with similarity of 0.9349428022311271\n",
            "2:Item6, with similarity of 0.8963802849585222\n",
            "3:Item4, with similarity of 0.8837387055954756\n",
            "4:Item1, with similarity of 0.8349867213266859\n",
            "\n",
            "Predicted rating for user 1 -> item 3: 7\n"
          ],
          "name": "stdout"
        }
      ]
    },
    {
      "cell_type": "code",
      "metadata": {
        "id": "ilJLDxnp5zvU"
      },
      "source": [
        "#funtion to compute adjusted cosine similarity matrix for items\n",
        "def computeAdjCosSim(M):\n",
        "    sim_matrix = np.zeros((M.shape[1], M.shape[1]))\n",
        "    M_u = M.mean(axis=1) #means\n",
        "          \n",
        "    for i in range(M.shape[1]):\n",
        "        for j in range(M.shape[1]):\n",
        "            if i == j:\n",
        "                \n",
        "                sim_matrix[i][j] = 1\n",
        "            else:                \n",
        "                if i<j:\n",
        "                    \n",
        "                    sum_num = sum_den1 = sum_den2 = 0\n",
        "                    for k,row in M.loc[:,[i,j]].iterrows(): \n",
        "\n",
        "                        if ((M.loc[k,i] != 0) & (M.loc[k,j] != 0)):\n",
        "                            num = (M[i][k]-M_u[k])*(M[j][k]-M_u[k])\n",
        "                            den1= (M[i][k]-M_u[k])**2\n",
        "                            den2= (M[j][k]-M_u[k])**2\n",
        "                            \n",
        "                            sum_num = sum_num + num\n",
        "                            sum_den1 = sum_den1 + den1\n",
        "                            sum_den2 = sum_den2 + den2\n",
        "                        \n",
        "                        else:\n",
        "                            continue                          \n",
        "                                       \n",
        "                    den=(sum_den1**0.5)*(sum_den2**0.5)\n",
        "                    if den!=0:\n",
        "                        sim_matrix[i][j] = sum_num/den\n",
        "                    else:\n",
        "                        sim_matrix[i][j] = 0\n",
        "\n",
        "\n",
        "                else:\n",
        "                    sim_matrix[i][j] = sim_matrix[j][i]           \n",
        "            \n",
        "    return pd.DataFrame(sim_matrix)"
      ],
      "execution_count": 18,
      "outputs": []
    },
    {
      "cell_type": "code",
      "metadata": {
        "colab": {
          "base_uri": "https://localhost:8080/",
          "height": 233
        },
        "id": "0Ut6jB2O8H6b",
        "outputId": "d6ebc47a-3e32-4fec-d12e-979af5a39457"
      },
      "source": [
        "adjcos_sim= computeAdjCosSim(m)\n",
        "adjcos_sim"
      ],
      "execution_count": 19,
      "outputs": [
        {
          "output_type": "execute_result",
          "data": {
            "text/html": [
              "<div>\n",
              "<style scoped>\n",
              "    .dataframe tbody tr th:only-of-type {\n",
              "        vertical-align: middle;\n",
              "    }\n",
              "\n",
              "    .dataframe tbody tr th {\n",
              "        vertical-align: top;\n",
              "    }\n",
              "\n",
              "    .dataframe thead th {\n",
              "        text-align: right;\n",
              "    }\n",
              "</style>\n",
              "<table border=\"1\" class=\"dataframe\">\n",
              "  <thead>\n",
              "    <tr style=\"text-align: right;\">\n",
              "      <th></th>\n",
              "      <th>0</th>\n",
              "      <th>1</th>\n",
              "      <th>2</th>\n",
              "      <th>3</th>\n",
              "      <th>4</th>\n",
              "      <th>5</th>\n",
              "    </tr>\n",
              "  </thead>\n",
              "  <tbody>\n",
              "    <tr>\n",
              "      <th>0</th>\n",
              "      <td>1.000000</td>\n",
              "      <td>0.668657</td>\n",
              "      <td>-0.147273</td>\n",
              "      <td>0.021888</td>\n",
              "      <td>-0.063420</td>\n",
              "      <td>-0.421862</td>\n",
              "    </tr>\n",
              "    <tr>\n",
              "      <th>1</th>\n",
              "      <td>0.668657</td>\n",
              "      <td>1.000000</td>\n",
              "      <td>-0.258199</td>\n",
              "      <td>-0.301283</td>\n",
              "      <td>0.008262</td>\n",
              "      <td>-0.103806</td>\n",
              "    </tr>\n",
              "    <tr>\n",
              "      <th>2</th>\n",
              "      <td>-0.147273</td>\n",
              "      <td>-0.258199</td>\n",
              "      <td>1.000000</td>\n",
              "      <td>-0.413728</td>\n",
              "      <td>0.573472</td>\n",
              "      <td>0.177300</td>\n",
              "    </tr>\n",
              "    <tr>\n",
              "      <th>3</th>\n",
              "      <td>0.021888</td>\n",
              "      <td>-0.301283</td>\n",
              "      <td>-0.413728</td>\n",
              "      <td>1.000000</td>\n",
              "      <td>-0.023958</td>\n",
              "      <td>-0.070491</td>\n",
              "    </tr>\n",
              "    <tr>\n",
              "      <th>4</th>\n",
              "      <td>-0.063420</td>\n",
              "      <td>0.008262</td>\n",
              "      <td>0.573472</td>\n",
              "      <td>-0.023958</td>\n",
              "      <td>1.000000</td>\n",
              "      <td>0.476217</td>\n",
              "    </tr>\n",
              "    <tr>\n",
              "      <th>5</th>\n",
              "      <td>-0.421862</td>\n",
              "      <td>-0.103806</td>\n",
              "      <td>0.177300</td>\n",
              "      <td>-0.070491</td>\n",
              "      <td>0.476217</td>\n",
              "      <td>1.000000</td>\n",
              "    </tr>\n",
              "  </tbody>\n",
              "</table>\n",
              "</div>"
            ],
            "text/plain": [
              "          0         1         2         3         4         5\n",
              "0  1.000000  0.668657 -0.147273  0.021888 -0.063420 -0.421862\n",
              "1  0.668657  1.000000 -0.258199 -0.301283  0.008262 -0.103806\n",
              "2 -0.147273 -0.258199  1.000000 -0.413728  0.573472  0.177300\n",
              "3  0.021888 -0.301283 -0.413728  1.000000 -0.023958 -0.070491\n",
              "4 -0.063420  0.008262  0.573472 -0.023958  1.000000  0.476217\n",
              "5 -0.421862 -0.103806  0.177300 -0.070491  0.476217  1.000000"
            ]
          },
          "metadata": {
            "tags": []
          },
          "execution_count": 19
        }
      ]
    },
    {
      "cell_type": "code",
      "metadata": {
        "id": "73SNI-eU9DMy"
      },
      "source": [
        "#function to find k similar items given the item_id and ratings matrix M\n",
        "\n",
        "def findksimilaritems_adjcos(item_id, ratings, k=k):\n",
        "    \n",
        "    sim_matrix = computeAdjCosSim(ratings)\n",
        "    similar = sim_matrix[item_id-1].sort_values(ascending=False)[:k+1].values\n",
        "    index = sim_matrix[item_id-1].sort_values(ascending=False)[:k+1].index\n",
        "    \n",
        "    print ('{} most similar items for item {}:\\n'.format(k,item_id))\n",
        "    for i in range(0, len(index)):\n",
        "            if index[i]+1 == item_id:\n",
        "                continue;\n",
        "\n",
        "            else:\n",
        "                print ('{}: Item {} :, with similarity of {}'.format(i,index[i]+1, similar[i]))\n",
        "        \n",
        "    return similar ,index"
      ],
      "execution_count": 20,
      "outputs": []
    },
    {
      "cell_type": "code",
      "metadata": {
        "colab": {
          "base_uri": "https://localhost:8080/"
        },
        "id": "P4c30XBw8PNO",
        "outputId": "96b38ca9-e13d-4b17-e986-0dd5b7b636a5"
      },
      "source": [
        "similar, index =findksimilaritems_adjcos(3, m)"
      ],
      "execution_count": 21,
      "outputs": [
        {
          "output_type": "stream",
          "text": [
            "4 most similar items for item 3:\n",
            "\n",
            "1: Item 5 :, with similarity of 0.5734723650156127\n",
            "2: Item 6 :, with similarity of 0.17730043730392672\n",
            "3: Item 1 :, with similarity of -0.14727321888159384\n",
            "4: Item 2 :, with similarity of -0.2581988897471612\n"
          ],
          "name": "stdout"
        }
      ]
    },
    {
      "cell_type": "code",
      "metadata": {
        "id": "a6Z-AoHw_143"
      },
      "source": [
        "#As the adjusted cosine similarities range from -1,+1, sometimes the predicted rating can be negative or greater than max value\n",
        "#This function predicts the rating for specified user-item combination for adjusted cosine item-based approach; where  Rating is set to min if prediction is negative, Rating is set to max if prediction is above max\n",
        "def predict_itembased_adjcos(user_id, item_id, ratings):\n",
        "    prediction=0\n",
        "\n",
        "    similarities, indices=findksimilaritems_adjcos(item_id, ratings) #similar users based on correlation coefficients\n",
        "    sum_wt = np.sum(similarities)-1\n",
        "\n",
        "    product=1\n",
        "    wtd_sum = 0 \n",
        "    for i in range(0, len(indices)):\n",
        "        if indices[i]+1 == item_id:\n",
        "            continue;\n",
        "        else:\n",
        "            product = ratings.iloc[user_id-1,indices[i]] * (similarities[i])\n",
        "            wtd_sum = wtd_sum + product                              \n",
        "    prediction = int(round(wtd_sum/sum_wt))\n",
        "    if prediction < 0:\n",
        "        prediction = 1\n",
        "    elif prediction >10:\n",
        "        prediction = 10\n",
        "    print ('\\nPredicted rating for user {0} -> item {1}: {2}'.format(user_id,item_id,prediction))\n",
        "        \n",
        "    return prediction"
      ],
      "execution_count": 22,
      "outputs": []
    },
    {
      "cell_type": "code",
      "metadata": {
        "colab": {
          "base_uri": "https://localhost:8080/"
        },
        "id": "to5WWn9LAzFL",
        "outputId": "9ff9b4f3-2d4b-4c65-850b-b62c9de7d196"
      },
      "source": [
        "prediction = predict_itembased_adjcos(3, 4,m)"
      ],
      "execution_count": 23,
      "outputs": [
        {
          "output_type": "stream",
          "text": [
            "4 most similar items for item 4:\n",
            "\n",
            "1: Item 1 :, with similarity of 0.02188833692468515\n",
            "2: Item 5 :, with similarity of -0.023957680199099374\n",
            "3: Item 6 :, with similarity of -0.0704907376850242\n",
            "4: Item 2 :, with similarity of -0.30128345711746257\n",
            "\n",
            "Predicted rating for user 3 -> item 4: 5\n"
          ],
          "name": "stdout"
        }
      ]
    },
    {
      "cell_type": "code",
      "metadata": {
        "colab": {
          "base_uri": "https://localhost:8080/",
          "height": 233
        },
        "id": "TFZ3PZrNBaEG",
        "outputId": "d7d12dea-ae13-422b-b6a8-5fbfc5d6809f"
      },
      "source": [
        "adjcos_sim"
      ],
      "execution_count": 24,
      "outputs": [
        {
          "output_type": "execute_result",
          "data": {
            "text/html": [
              "<div>\n",
              "<style scoped>\n",
              "    .dataframe tbody tr th:only-of-type {\n",
              "        vertical-align: middle;\n",
              "    }\n",
              "\n",
              "    .dataframe tbody tr th {\n",
              "        vertical-align: top;\n",
              "    }\n",
              "\n",
              "    .dataframe thead th {\n",
              "        text-align: right;\n",
              "    }\n",
              "</style>\n",
              "<table border=\"1\" class=\"dataframe\">\n",
              "  <thead>\n",
              "    <tr style=\"text-align: right;\">\n",
              "      <th></th>\n",
              "      <th>0</th>\n",
              "      <th>1</th>\n",
              "      <th>2</th>\n",
              "      <th>3</th>\n",
              "      <th>4</th>\n",
              "      <th>5</th>\n",
              "    </tr>\n",
              "  </thead>\n",
              "  <tbody>\n",
              "    <tr>\n",
              "      <th>0</th>\n",
              "      <td>1.000000</td>\n",
              "      <td>0.668657</td>\n",
              "      <td>-0.147273</td>\n",
              "      <td>0.021888</td>\n",
              "      <td>-0.063420</td>\n",
              "      <td>-0.421862</td>\n",
              "    </tr>\n",
              "    <tr>\n",
              "      <th>1</th>\n",
              "      <td>0.668657</td>\n",
              "      <td>1.000000</td>\n",
              "      <td>-0.258199</td>\n",
              "      <td>-0.301283</td>\n",
              "      <td>0.008262</td>\n",
              "      <td>-0.103806</td>\n",
              "    </tr>\n",
              "    <tr>\n",
              "      <th>2</th>\n",
              "      <td>-0.147273</td>\n",
              "      <td>-0.258199</td>\n",
              "      <td>1.000000</td>\n",
              "      <td>-0.413728</td>\n",
              "      <td>0.573472</td>\n",
              "      <td>0.177300</td>\n",
              "    </tr>\n",
              "    <tr>\n",
              "      <th>3</th>\n",
              "      <td>0.021888</td>\n",
              "      <td>-0.301283</td>\n",
              "      <td>-0.413728</td>\n",
              "      <td>1.000000</td>\n",
              "      <td>-0.023958</td>\n",
              "      <td>-0.070491</td>\n",
              "    </tr>\n",
              "    <tr>\n",
              "      <th>4</th>\n",
              "      <td>-0.063420</td>\n",
              "      <td>0.008262</td>\n",
              "      <td>0.573472</td>\n",
              "      <td>-0.023958</td>\n",
              "      <td>1.000000</td>\n",
              "      <td>0.476217</td>\n",
              "    </tr>\n",
              "    <tr>\n",
              "      <th>5</th>\n",
              "      <td>-0.421862</td>\n",
              "      <td>-0.103806</td>\n",
              "      <td>0.177300</td>\n",
              "      <td>-0.070491</td>\n",
              "      <td>0.476217</td>\n",
              "      <td>1.000000</td>\n",
              "    </tr>\n",
              "  </tbody>\n",
              "</table>\n",
              "</div>"
            ],
            "text/plain": [
              "          0         1         2         3         4         5\n",
              "0  1.000000  0.668657 -0.147273  0.021888 -0.063420 -0.421862\n",
              "1  0.668657  1.000000 -0.258199 -0.301283  0.008262 -0.103806\n",
              "2 -0.147273 -0.258199  1.000000 -0.413728  0.573472  0.177300\n",
              "3  0.021888 -0.301283 -0.413728  1.000000 -0.023958 -0.070491\n",
              "4 -0.063420  0.008262  0.573472 -0.023958  1.000000  0.476217\n",
              "5 -0.421862 -0.103806  0.177300 -0.070491  0.476217  1.000000"
            ]
          },
          "metadata": {
            "tags": []
          },
          "execution_count": 24
        }
      ]
    },
    {
      "cell_type": "code",
      "metadata": {
        "id": "_iZi6AH0BrWc"
      },
      "source": [
        "#function utilizes above function to recommend items for selected approach. Recommendations are made if the predicted\n",
        "#rating for an item is greater than or equal to 6, and the items has not been rated already\n",
        "def recommendItem(user_id, item_id, ratings):\n",
        "    \n",
        "    if user_id<1 or user_id>6 or type(user_id) is not int:\n",
        "        print ('Userid does not exist. Enter numbers from 1-6')\n",
        "    else:    \n",
        "        ids = ['User-based CF (cosine)','User-based CF (correlation)','Item-based CF (cosine)',\n",
        "               'Item-based CF (adjusted cosine)']\n",
        "\n",
        "        approach = widgets.Dropdown(options=ids, value=ids[0],\n",
        "                               description='Select Approach', width='500px')\n",
        "        \n",
        "        def on_change(change):\n",
        "            prediction = 0\n",
        "            clear_output(wait=True)\n",
        "            if change['type'] == 'change' and change['name'] == 'value':            \n",
        "                if (approach.value == 'User-based CF (cosine)'):\n",
        "                    metric = 'cosine'\n",
        "                    prediction = pred_userbased(user_id, item_id, ratings, metric)\n",
        "                elif (approach.value == 'User-based CF (correlation)')  :                       \n",
        "                    metric = 'correlation'               \n",
        "                    prediction = pred_userbased(user_id, item_id, ratings, metric)\n",
        "                elif (approach.value == 'Item-based CF (cosine)'):\n",
        "                    prediction = pred_itembased(user_id, item_id, ratings)\n",
        "                else:\n",
        "                    prediction = predict_itembased_adjcos(user_id,item_id,ratings)\n",
        "\n",
        "                if ratings[item_id-1][user_id-1] != 0: \n",
        "                    print ('Item already rated')\n",
        "                else:\n",
        "                    if prediction>=6:\n",
        "                        print ('\\nItem recommended')\n",
        "                    else:\n",
        "                        print ('Item not recommended')\n",
        "\n",
        "        approach.observe(on_change)\n",
        "        display(approach)"
      ],
      "execution_count": 25,
      "outputs": []
    },
    {
      "cell_type": "code",
      "metadata": {
        "colab": {
          "base_uri": "https://localhost:8080/"
        },
        "id": "yt7B0I5aCDGc",
        "outputId": "ba96f721-ef29-42a7-d6a4-f631dc12e627"
      },
      "source": [
        "#check for incorrect entries\n",
        "recommendItem(-1,3,m)"
      ],
      "execution_count": 26,
      "outputs": [
        {
          "output_type": "stream",
          "text": [
            "Userid does not exist. Enter numbers from 1-6\n"
          ],
          "name": "stdout"
        }
      ]
    },
    {
      "cell_type": "code",
      "metadata": {
        "colab": {
          "base_uri": "https://localhost:8080/",
          "height": 161,
          "referenced_widgets": [
            "d1e25546b3f14bd6b4adac838670f6e2",
            "841cf3b0913c4e7ca486de7c4ed2a52c",
            "11732a6c12bc4149ade50c65ae01d06f"
          ]
        },
        "id": "GkgDvbHMCHtn",
        "outputId": "fa0a038b-6a7c-4083-d8f0-abf8f0ecd4e4"
      },
      "source": [
        "recommendItem(3,4,m) #userbased correation"
      ],
      "execution_count": 27,
      "outputs": [
        {
          "output_type": "stream",
          "text": [
            "4 most similar users for User 3:\n",
            "1:User4, with similarity of 0.45137800509830084\n",
            "2:User6, with similarity of 0.29737330482459035\n",
            "3:User5, with similarity of -0.042887787939969835\n",
            "4:User2, with similarity of -0.11302975767633616\n",
            "\n",
            "Predicted rating for user3-> item4:2\n",
            "Item not recommended\n"
          ],
          "name": "stdout"
        }
      ]
    },
    {
      "cell_type": "code",
      "metadata": {
        "colab": {
          "base_uri": "https://localhost:8080/",
          "height": 179,
          "referenced_widgets": [
            "b00d79f5795840dcb4799b5c6354f9f7",
            "09f77cfa024d42ed93722e8d663a0ed7",
            "007309352f3a4bd4b7214c82e08c81ee"
          ]
        },
        "id": "jVlXFuySCNix",
        "outputId": "4669f052-b92a-4a02-e0e1-a792e959c630"
      },
      "source": [
        "recommendItem(3,4,m)#itebased cosine"
      ],
      "execution_count": 28,
      "outputs": [
        {
          "output_type": "stream",
          "text": [
            "4 most similar items for item 4:\n",
            "1:Item6, with similarity of 0.9461705147055777\n",
            "2:Item5, with similarity of 0.8965398044904246\n",
            "3:Item3, with similarity of 0.8837387055954756\n",
            "4:Item1, with similarity of 0.822420808597973\n",
            "\n",
            "Predicted rating for user 3 -> item 4: 6\n",
            "\n",
            "Item recommended\n"
          ],
          "name": "stdout"
        }
      ]
    },
    {
      "cell_type": "code",
      "metadata": {
        "colab": {
          "base_uri": "https://localhost:8080/",
          "height": 179,
          "referenced_widgets": [
            "b7ebcafcc9db407c84fe3ae046f92700",
            "01ed3e7d9b654ff08fab737722f1b23f",
            "1f38cc69b94e4a688c5f1532d3687f1c"
          ]
        },
        "id": "m3gLQnxmC52e",
        "outputId": "d4791448-8f6f-4180-d712-4eef3fde64dd"
      },
      "source": [
        "recommendItem(3,4,m)#itembased ajdcos"
      ],
      "execution_count": 29,
      "outputs": [
        {
          "output_type": "stream",
          "text": [
            "4 most similar items for item 4:\n",
            "\n",
            "1: Item 1 :, with similarity of 0.02188833692468515\n",
            "2: Item 5 :, with similarity of -0.023957680199099374\n",
            "3: Item 6 :, with similarity of -0.0704907376850242\n",
            "4: Item 2 :, with similarity of -0.30128345711746257\n",
            "\n",
            "Predicted rating for user 3 -> item 4: 5\n",
            "Item not recommended\n"
          ],
          "name": "stdout"
        }
      ]
    },
    {
      "cell_type": "code",
      "metadata": {
        "colab": {
          "base_uri": "https://localhost:8080/",
          "height": 161,
          "referenced_widgets": [
            "316e919dbfd8484c89c75afcaab8399d",
            "1c59da122dd048d8805b3292b729cfef",
            "3151f0ef1e1449158c6bf91e013990c1"
          ]
        },
        "id": "mr8SQ6AcDAE8",
        "outputId": "6288fec2-f485-4208-dde4-481462234133"
      },
      "source": [
        "recommendItem(2,1,m)#if item is already rated its not recommended"
      ],
      "execution_count": 30,
      "outputs": [
        {
          "output_type": "stream",
          "text": [
            "4 most similar users for User 2:\n",
            "1:User1, with similarity of 0.49466312545461666\n",
            "2:User4, with similarity of 0.262895775278958\n",
            "3:User5, with similarity of 0.17648280200062938\n",
            "4:User3, with similarity of -0.11302975767633616\n",
            "\n",
            "Predicted rating for user2-> item1:4\n",
            "Item already rated\n"
          ],
          "name": "stdout"
        }
      ]
    },
    {
      "cell_type": "code",
      "metadata": {
        "id": "RssJchy4DRGr"
      },
      "source": [
        "#This is a quick way to temporarily suppress stdout in particular code section\n",
        "import sys, os\n",
        "from contextlib import contextmanager\n",
        "\n",
        "@contextmanager\n",
        "def suppress_stdout():\n",
        "    with open(os.devnull, \"w\") as devnull:\n",
        "        old_stdout = sys.stdout\n",
        "        sys.stdout = devnull\n",
        "        try:  \n",
        "            yield\n",
        "        finally:\n",
        "            sys.stdout = old_stdout\n"
      ],
      "execution_count": 31,
      "outputs": []
    },
    {
      "cell_type": "code",
      "metadata": {
        "id": "6TA80WiOEGDH"
      },
      "source": [
        "#This is final function to evaluate the performance of selected recommendation approach and the metric used here is RMSE\n",
        "#suppress_stdout function is used to suppress the print outputs of all the functions inside this function. It will only print \n",
        "#RMSE values\n",
        "def evaluateRS(ratings):\n",
        "    ids = ['User-based CF (cosine)','User-based CF (correlation)','Item-based CF (cosine)','Item-based CF (adjusted cosine)']\n",
        "    approach = widgets.Dropdown(options=ids, value=ids[0],description='Select Approach', width='500px')\n",
        "    n_users = ratings.shape[0]\n",
        "    n_items = ratings.shape[1]\n",
        "    prediction = np.zeros((n_users, n_items))\n",
        "    prediction= pd.DataFrame(prediction)\n",
        "    def on_change(change):\n",
        "        clear_output(wait=True)\n",
        "        with suppress_stdout():\n",
        "            if change['type'] == 'change' and change['name'] == 'value':            \n",
        "                if (approach.value == 'User-based CF (cosine)'):\n",
        "                    metric = 'cosine'\n",
        "                    for i in range(n_users):\n",
        "                        for j in range(n_items):\n",
        "                            prediction[i][j] = pred_userbased(i+1, j+1, ratings, metric)\n",
        "                elif (approach.value == 'User-based CF (correlation)')  :                       \n",
        "                    metric = 'correlation'               \n",
        "                    for i in range(n_users):\n",
        "                        for j in range(n_items):\n",
        "                            prediction[i][j] = pred_userbased(i+1, j+1, ratings, metric)\n",
        "                elif (approach.value == 'Item-based CF (cosine)'):\n",
        "                    for i in range(n_users):\n",
        "                        for j in range(n_items):\n",
        "                            prediction[i][j] = pred_userbased(i+1, j+1, ratings)\n",
        "                else:\n",
        "                    for i in range(n_users):\n",
        "                        for j in range(n_items):\n",
        "                            prediction[i][j] = pred_userbased(i+1, j+1, ratings)\n",
        "              \n",
        "        MSE = mean_squared_error(prediction, ratings)\n",
        "        RMSE = round(sqrt(MSE),3)\n",
        "        print (\"RMSE using {0} approach is: {1}\".format(approach.value,RMSE))\n",
        "              \n",
        "    approach.observe(on_change)\n",
        "    display(approach)"
      ],
      "execution_count": 32,
      "outputs": []
    },
    {
      "cell_type": "code",
      "metadata": {
        "colab": {
          "base_uri": "https://localhost:8080/",
          "height": 35,
          "referenced_widgets": [
            "83c80c0083df4d54b33d811a8d444899",
            "6da29a53d42a45d0a5f2363cc9c296ce",
            "f637a9d4335a44f8971f3de6e48f0e0d"
          ]
        },
        "id": "xs5DIe3dET74",
        "outputId": "7b53007b-269f-4e5a-c07d-8b7a9fb034d3"
      },
      "source": [
        "evaluateRS(m)"
      ],
      "execution_count": 33,
      "outputs": [
        {
          "output_type": "stream",
          "text": [
            "RMSE using User-based CF (correlation) approach is: 2.981\n"
          ],
          "name": "stdout"
        }
      ]
    },
    {
      "cell_type": "code",
      "metadata": {
        "colab": {
          "base_uri": "https://localhost:8080/",
          "height": 35,
          "referenced_widgets": [
            "050916553a834b8cada2ef0591311725",
            "0590cfc39cba414083406995e98368e9",
            "9e604de713fc4d5384d2e1636ca15380"
          ]
        },
        "id": "QJViNmFqEZ2z",
        "outputId": "dfdc52e6-f201-4072-91f7-49b33bcb3111"
      },
      "source": [
        "evaluateRS(m)"
      ],
      "execution_count": 34,
      "outputs": [
        {
          "output_type": "stream",
          "text": [
            "RMSE using Item-based CF (cosine) approach is: 2.92\n"
          ],
          "name": "stdout"
        }
      ]
    }
  ]
}